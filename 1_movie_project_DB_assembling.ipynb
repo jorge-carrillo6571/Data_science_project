{
 "cells": [
  {
   "cell_type": "markdown",
   "id": "7e536c83-e828-436c-a674-b7081a553a14",
   "metadata": {},
   "source": [
    "# Did you like the movie? - Building the database\n",
    "\n",
    "## Importing libraries"
   ]
  },
  {
   "cell_type": "code",
   "execution_count": 1,
   "id": "dd0d18e4-3e82-4629-a35a-433285bd2b1f",
   "metadata": {},
   "outputs": [],
   "source": [
    "import pandas as pd"
   ]
  },
  {
   "cell_type": "markdown",
   "id": "980db620-f6da-467c-aa1f-9ffd9bc2366b",
   "metadata": {},
   "source": [
    "## Reading in a sample of all databases"
   ]
  },
  {
   "cell_type": "code",
   "execution_count": 2,
   "id": "d3bed6a6-3e4a-427a-b48a-8b9fad742e0a",
   "metadata": {},
   "outputs": [
    {
     "ename": "FileNotFoundError",
     "evalue": "[Errno 2] No such file or directory: 'team1.csv'",
     "output_type": "error",
     "traceback": [
      "\u001b[1;31m---------------------------------------------------------------------------\u001b[0m",
      "\u001b[1;31mFileNotFoundError\u001b[0m                         Traceback (most recent call last)",
      "Cell \u001b[1;32mIn[2], line 1\u001b[0m\n\u001b[1;32m----> 1\u001b[0m team1 \u001b[38;5;241m=\u001b[39m pd\u001b[38;5;241m.\u001b[39mread_csv(\u001b[38;5;124m'\u001b[39m\u001b[38;5;124mteam1.csv\u001b[39m\u001b[38;5;124m'\u001b[39m)\u001b[38;5;241m.\u001b[39msample(n\u001b[38;5;241m=\u001b[39m\u001b[38;5;241m60\u001b[39m)\n\u001b[0;32m      2\u001b[0m team2 \u001b[38;5;241m=\u001b[39m pd\u001b[38;5;241m.\u001b[39mread_csv(\u001b[38;5;124m'\u001b[39m\u001b[38;5;124mteam2.csv\u001b[39m\u001b[38;5;124m'\u001b[39m)\u001b[38;5;241m.\u001b[39msample(n\u001b[38;5;241m=\u001b[39m\u001b[38;5;241m60\u001b[39m)\n\u001b[0;32m      3\u001b[0m team3 \u001b[38;5;241m=\u001b[39m pd\u001b[38;5;241m.\u001b[39mread_csv(\u001b[38;5;124m'\u001b[39m\u001b[38;5;124mteam3.csv\u001b[39m\u001b[38;5;124m'\u001b[39m)\u001b[38;5;241m.\u001b[39msample(n\u001b[38;5;241m=\u001b[39m\u001b[38;5;241m60\u001b[39m)\n",
      "File \u001b[1;32mc:\\Users\\jorge\\anaconda3\\Lib\\site-packages\\pandas\\io\\parsers\\readers.py:948\u001b[0m, in \u001b[0;36mread_csv\u001b[1;34m(filepath_or_buffer, sep, delimiter, header, names, index_col, usecols, dtype, engine, converters, true_values, false_values, skipinitialspace, skiprows, skipfooter, nrows, na_values, keep_default_na, na_filter, verbose, skip_blank_lines, parse_dates, infer_datetime_format, keep_date_col, date_parser, date_format, dayfirst, cache_dates, iterator, chunksize, compression, thousands, decimal, lineterminator, quotechar, quoting, doublequote, escapechar, comment, encoding, encoding_errors, dialect, on_bad_lines, delim_whitespace, low_memory, memory_map, float_precision, storage_options, dtype_backend)\u001b[0m\n\u001b[0;32m    935\u001b[0m kwds_defaults \u001b[38;5;241m=\u001b[39m _refine_defaults_read(\n\u001b[0;32m    936\u001b[0m     dialect,\n\u001b[0;32m    937\u001b[0m     delimiter,\n\u001b[1;32m   (...)\u001b[0m\n\u001b[0;32m    944\u001b[0m     dtype_backend\u001b[38;5;241m=\u001b[39mdtype_backend,\n\u001b[0;32m    945\u001b[0m )\n\u001b[0;32m    946\u001b[0m kwds\u001b[38;5;241m.\u001b[39mupdate(kwds_defaults)\n\u001b[1;32m--> 948\u001b[0m \u001b[38;5;28;01mreturn\u001b[39;00m _read(filepath_or_buffer, kwds)\n",
      "File \u001b[1;32mc:\\Users\\jorge\\anaconda3\\Lib\\site-packages\\pandas\\io\\parsers\\readers.py:611\u001b[0m, in \u001b[0;36m_read\u001b[1;34m(filepath_or_buffer, kwds)\u001b[0m\n\u001b[0;32m    608\u001b[0m _validate_names(kwds\u001b[38;5;241m.\u001b[39mget(\u001b[38;5;124m\"\u001b[39m\u001b[38;5;124mnames\u001b[39m\u001b[38;5;124m\"\u001b[39m, \u001b[38;5;28;01mNone\u001b[39;00m))\n\u001b[0;32m    610\u001b[0m \u001b[38;5;66;03m# Create the parser.\u001b[39;00m\n\u001b[1;32m--> 611\u001b[0m parser \u001b[38;5;241m=\u001b[39m TextFileReader(filepath_or_buffer, \u001b[38;5;241m*\u001b[39m\u001b[38;5;241m*\u001b[39mkwds)\n\u001b[0;32m    613\u001b[0m \u001b[38;5;28;01mif\u001b[39;00m chunksize \u001b[38;5;129;01mor\u001b[39;00m iterator:\n\u001b[0;32m    614\u001b[0m     \u001b[38;5;28;01mreturn\u001b[39;00m parser\n",
      "File \u001b[1;32mc:\\Users\\jorge\\anaconda3\\Lib\\site-packages\\pandas\\io\\parsers\\readers.py:1448\u001b[0m, in \u001b[0;36mTextFileReader.__init__\u001b[1;34m(self, f, engine, **kwds)\u001b[0m\n\u001b[0;32m   1445\u001b[0m     \u001b[38;5;28mself\u001b[39m\u001b[38;5;241m.\u001b[39moptions[\u001b[38;5;124m\"\u001b[39m\u001b[38;5;124mhas_index_names\u001b[39m\u001b[38;5;124m\"\u001b[39m] \u001b[38;5;241m=\u001b[39m kwds[\u001b[38;5;124m\"\u001b[39m\u001b[38;5;124mhas_index_names\u001b[39m\u001b[38;5;124m\"\u001b[39m]\n\u001b[0;32m   1447\u001b[0m \u001b[38;5;28mself\u001b[39m\u001b[38;5;241m.\u001b[39mhandles: IOHandles \u001b[38;5;241m|\u001b[39m \u001b[38;5;28;01mNone\u001b[39;00m \u001b[38;5;241m=\u001b[39m \u001b[38;5;28;01mNone\u001b[39;00m\n\u001b[1;32m-> 1448\u001b[0m \u001b[38;5;28mself\u001b[39m\u001b[38;5;241m.\u001b[39m_engine \u001b[38;5;241m=\u001b[39m \u001b[38;5;28mself\u001b[39m\u001b[38;5;241m.\u001b[39m_make_engine(f, \u001b[38;5;28mself\u001b[39m\u001b[38;5;241m.\u001b[39mengine)\n",
      "File \u001b[1;32mc:\\Users\\jorge\\anaconda3\\Lib\\site-packages\\pandas\\io\\parsers\\readers.py:1705\u001b[0m, in \u001b[0;36mTextFileReader._make_engine\u001b[1;34m(self, f, engine)\u001b[0m\n\u001b[0;32m   1703\u001b[0m     \u001b[38;5;28;01mif\u001b[39;00m \u001b[38;5;124m\"\u001b[39m\u001b[38;5;124mb\u001b[39m\u001b[38;5;124m\"\u001b[39m \u001b[38;5;129;01mnot\u001b[39;00m \u001b[38;5;129;01min\u001b[39;00m mode:\n\u001b[0;32m   1704\u001b[0m         mode \u001b[38;5;241m+\u001b[39m\u001b[38;5;241m=\u001b[39m \u001b[38;5;124m\"\u001b[39m\u001b[38;5;124mb\u001b[39m\u001b[38;5;124m\"\u001b[39m\n\u001b[1;32m-> 1705\u001b[0m \u001b[38;5;28mself\u001b[39m\u001b[38;5;241m.\u001b[39mhandles \u001b[38;5;241m=\u001b[39m get_handle(\n\u001b[0;32m   1706\u001b[0m     f,\n\u001b[0;32m   1707\u001b[0m     mode,\n\u001b[0;32m   1708\u001b[0m     encoding\u001b[38;5;241m=\u001b[39m\u001b[38;5;28mself\u001b[39m\u001b[38;5;241m.\u001b[39moptions\u001b[38;5;241m.\u001b[39mget(\u001b[38;5;124m\"\u001b[39m\u001b[38;5;124mencoding\u001b[39m\u001b[38;5;124m\"\u001b[39m, \u001b[38;5;28;01mNone\u001b[39;00m),\n\u001b[0;32m   1709\u001b[0m     compression\u001b[38;5;241m=\u001b[39m\u001b[38;5;28mself\u001b[39m\u001b[38;5;241m.\u001b[39moptions\u001b[38;5;241m.\u001b[39mget(\u001b[38;5;124m\"\u001b[39m\u001b[38;5;124mcompression\u001b[39m\u001b[38;5;124m\"\u001b[39m, \u001b[38;5;28;01mNone\u001b[39;00m),\n\u001b[0;32m   1710\u001b[0m     memory_map\u001b[38;5;241m=\u001b[39m\u001b[38;5;28mself\u001b[39m\u001b[38;5;241m.\u001b[39moptions\u001b[38;5;241m.\u001b[39mget(\u001b[38;5;124m\"\u001b[39m\u001b[38;5;124mmemory_map\u001b[39m\u001b[38;5;124m\"\u001b[39m, \u001b[38;5;28;01mFalse\u001b[39;00m),\n\u001b[0;32m   1711\u001b[0m     is_text\u001b[38;5;241m=\u001b[39mis_text,\n\u001b[0;32m   1712\u001b[0m     errors\u001b[38;5;241m=\u001b[39m\u001b[38;5;28mself\u001b[39m\u001b[38;5;241m.\u001b[39moptions\u001b[38;5;241m.\u001b[39mget(\u001b[38;5;124m\"\u001b[39m\u001b[38;5;124mencoding_errors\u001b[39m\u001b[38;5;124m\"\u001b[39m, \u001b[38;5;124m\"\u001b[39m\u001b[38;5;124mstrict\u001b[39m\u001b[38;5;124m\"\u001b[39m),\n\u001b[0;32m   1713\u001b[0m     storage_options\u001b[38;5;241m=\u001b[39m\u001b[38;5;28mself\u001b[39m\u001b[38;5;241m.\u001b[39moptions\u001b[38;5;241m.\u001b[39mget(\u001b[38;5;124m\"\u001b[39m\u001b[38;5;124mstorage_options\u001b[39m\u001b[38;5;124m\"\u001b[39m, \u001b[38;5;28;01mNone\u001b[39;00m),\n\u001b[0;32m   1714\u001b[0m )\n\u001b[0;32m   1715\u001b[0m \u001b[38;5;28;01massert\u001b[39;00m \u001b[38;5;28mself\u001b[39m\u001b[38;5;241m.\u001b[39mhandles \u001b[38;5;129;01mis\u001b[39;00m \u001b[38;5;129;01mnot\u001b[39;00m \u001b[38;5;28;01mNone\u001b[39;00m\n\u001b[0;32m   1716\u001b[0m f \u001b[38;5;241m=\u001b[39m \u001b[38;5;28mself\u001b[39m\u001b[38;5;241m.\u001b[39mhandles\u001b[38;5;241m.\u001b[39mhandle\n",
      "File \u001b[1;32mc:\\Users\\jorge\\anaconda3\\Lib\\site-packages\\pandas\\io\\common.py:863\u001b[0m, in \u001b[0;36mget_handle\u001b[1;34m(path_or_buf, mode, encoding, compression, memory_map, is_text, errors, storage_options)\u001b[0m\n\u001b[0;32m    858\u001b[0m \u001b[38;5;28;01melif\u001b[39;00m \u001b[38;5;28misinstance\u001b[39m(handle, \u001b[38;5;28mstr\u001b[39m):\n\u001b[0;32m    859\u001b[0m     \u001b[38;5;66;03m# Check whether the filename is to be opened in binary mode.\u001b[39;00m\n\u001b[0;32m    860\u001b[0m     \u001b[38;5;66;03m# Binary mode does not support 'encoding' and 'newline'.\u001b[39;00m\n\u001b[0;32m    861\u001b[0m     \u001b[38;5;28;01mif\u001b[39;00m ioargs\u001b[38;5;241m.\u001b[39mencoding \u001b[38;5;129;01mand\u001b[39;00m \u001b[38;5;124m\"\u001b[39m\u001b[38;5;124mb\u001b[39m\u001b[38;5;124m\"\u001b[39m \u001b[38;5;129;01mnot\u001b[39;00m \u001b[38;5;129;01min\u001b[39;00m ioargs\u001b[38;5;241m.\u001b[39mmode:\n\u001b[0;32m    862\u001b[0m         \u001b[38;5;66;03m# Encoding\u001b[39;00m\n\u001b[1;32m--> 863\u001b[0m         handle \u001b[38;5;241m=\u001b[39m \u001b[38;5;28mopen\u001b[39m(\n\u001b[0;32m    864\u001b[0m             handle,\n\u001b[0;32m    865\u001b[0m             ioargs\u001b[38;5;241m.\u001b[39mmode,\n\u001b[0;32m    866\u001b[0m             encoding\u001b[38;5;241m=\u001b[39mioargs\u001b[38;5;241m.\u001b[39mencoding,\n\u001b[0;32m    867\u001b[0m             errors\u001b[38;5;241m=\u001b[39merrors,\n\u001b[0;32m    868\u001b[0m             newline\u001b[38;5;241m=\u001b[39m\u001b[38;5;124m\"\u001b[39m\u001b[38;5;124m\"\u001b[39m,\n\u001b[0;32m    869\u001b[0m         )\n\u001b[0;32m    870\u001b[0m     \u001b[38;5;28;01melse\u001b[39;00m:\n\u001b[0;32m    871\u001b[0m         \u001b[38;5;66;03m# Binary mode\u001b[39;00m\n\u001b[0;32m    872\u001b[0m         handle \u001b[38;5;241m=\u001b[39m \u001b[38;5;28mopen\u001b[39m(handle, ioargs\u001b[38;5;241m.\u001b[39mmode)\n",
      "\u001b[1;31mFileNotFoundError\u001b[0m: [Errno 2] No such file or directory: 'team1.csv'"
     ]
    }
   ],
   "source": [
    "team1 = pd.read_csv('team1.csv').sample(n=60)\n",
    "team2 = pd.read_csv('team2.csv').sample(n=60)\n",
    "team3 = pd.read_csv('team3.csv').sample(n=60)\n",
    "team4 = pd.read_csv('team4.csv').sample(n=60)"
   ]
  },
  {
   "cell_type": "markdown",
   "id": "677fc1c4-9542-4521-a86e-76a07d73b1ba",
   "metadata": {},
   "source": [
    "## Shape and column exploration"
   ]
  },
  {
   "cell_type": "code",
   "execution_count": null,
   "id": "612d115f-cf26-4d9d-930a-c56d29d1c34a",
   "metadata": {},
   "outputs": [],
   "source": [
    "[df.shape for df in [team1,team2,team3,team4]]"
   ]
  },
  {
   "cell_type": "code",
   "execution_count": null,
   "id": "89af0bfb-3545-44be-820f-21fa01ab746f",
   "metadata": {},
   "outputs": [],
   "source": [
    "[df.columns for df in [team1,team2,team3,team4]]"
   ]
  },
  {
   "cell_type": "code",
   "execution_count": null,
   "id": "e5425560-e3b3-4e1d-9067-808550c5bf6d",
   "metadata": {},
   "outputs": [],
   "source": [
    "team1.head()"
   ]
  },
  {
   "cell_type": "code",
   "execution_count": null,
   "id": "71cc58ee-4fe7-49ed-b93a-4c8b71e52a26",
   "metadata": {},
   "outputs": [],
   "source": [
    "team2.head()"
   ]
  },
  {
   "cell_type": "code",
   "execution_count": null,
   "id": "3e66c76e-5c52-4831-a793-0ff6c725cc23",
   "metadata": {},
   "outputs": [],
   "source": [
    "team3.head()"
   ]
  },
  {
   "cell_type": "code",
   "execution_count": null,
   "id": "5b59f24c-da6e-420f-9f36-5d1fb503e295",
   "metadata": {},
   "outputs": [],
   "source": [
    "team4.head()"
   ]
  },
  {
   "cell_type": "markdown",
   "id": "e694ed66-0267-4197-9d8a-2aa5c0d39a3a",
   "metadata": {},
   "source": [
    "## Column cleanup\n",
    "### Team 1"
   ]
  },
  {
   "cell_type": "code",
   "execution_count": null,
   "id": "d7035b64-02e1-435e-8884-0a0984402c76",
   "metadata": {},
   "outputs": [],
   "source": [
    "team1.columns"
   ]
  },
  {
   "cell_type": "code",
   "execution_count": null,
   "id": "e6f3699f-4c29-4a3c-89b0-2c554035b9a9",
   "metadata": {},
   "outputs": [],
   "source": [
    "team1.rename(columns = {'Movie':'Title','Time':'Duration','Budget (million dollars)':'Budget','Metacritic':'Critic_1','Letterboxd':'Critic_2','Rotten tomato':'Critic_3'},inplace=True)"
   ]
  },
  {
   "cell_type": "code",
   "execution_count": null,
   "id": "043321bc-b849-4bcc-b465-48b8cefaa052",
   "metadata": {},
   "outputs": [],
   "source": [
    "team1.columns"
   ]
  },
  {
   "cell_type": "code",
   "execution_count": null,
   "id": "5d626cc6-3100-4499-bb06-f806728014c2",
   "metadata": {},
   "outputs": [],
   "source": [
    "team1.columns = [col.replace('persona_','Fan_') for col in team1]"
   ]
  },
  {
   "cell_type": "code",
   "execution_count": null,
   "id": "6ec8d3b9-095d-4769-a0ca-00a8da614666",
   "metadata": {},
   "outputs": [],
   "source": [
    "team1.columns"
   ]
  },
  {
   "cell_type": "code",
   "execution_count": null,
   "id": "8e6cdc79-9d25-45a4-ad9e-f0cb73723299",
   "metadata": {},
   "outputs": [],
   "source": [
    "team1.columns=[col.capitalize() for col in team1]"
   ]
  },
  {
   "cell_type": "code",
   "execution_count": null,
   "id": "a49197d0-84e1-4d48-8316-deb21d5b4916",
   "metadata": {},
   "outputs": [],
   "source": [
    "team1.columns"
   ]
  },
  {
   "cell_type": "code",
   "execution_count": null,
   "id": "c87fbe94-0a43-4943-a2dc-167a10534337",
   "metadata": {},
   "outputs": [],
   "source": [
    "team1.shape"
   ]
  },
  {
   "cell_type": "markdown",
   "id": "0234b1ca-4e2a-40d6-ab3e-584539104657",
   "metadata": {},
   "source": [
    "### Team 2"
   ]
  },
  {
   "cell_type": "code",
   "execution_count": null,
   "id": "9362f1e5-bb38-4253-851d-7690d5440b69",
   "metadata": {},
   "outputs": [],
   "source": [
    "team2.columns"
   ]
  },
  {
   "cell_type": "code",
   "execution_count": null,
   "id": "09f6c565-f90a-4666-be78-a9efbb6bb409",
   "metadata": {},
   "outputs": [],
   "source": [
    "team2.columns = [col.capitalize() for col in team2]\n",
    "team2.columns"
   ]
  },
  {
   "cell_type": "code",
   "execution_count": null,
   "id": "54f66df5-5b43-4bbc-a4a1-f509e9494dba",
   "metadata": {},
   "outputs": [],
   "source": [
    "team2.rename(columns = {'Movies':'Title','Duration (min)':'Duration','Budget (m)':'Budget','Box office (m)':'Revenue','Metacritic':'Critic_1','Roger ebert':'Critic_2','Rotten tomatoes':'Critic_3'},inplace=True)\n",
    "team2.columns"
   ]
  },
  {
   "cell_type": "code",
   "execution_count": null,
   "id": "8ca1e874-7140-4910-94bc-0d17d54bfef0",
   "metadata": {},
   "outputs": [],
   "source": [
    "team2.columns = [col.replace('Person #','Fan_') for col in team2]\n",
    "team2.columns"
   ]
  },
  {
   "cell_type": "code",
   "execution_count": null,
   "id": "2e5ddcc9-e6d2-40ae-8fcf-dc85377c2776",
   "metadata": {},
   "outputs": [],
   "source": [
    "team2['Personal']=team2.iloc[:,10:13].mean(axis=1)\n",
    "team2.head()"
   ]
  },
  {
   "cell_type": "code",
   "execution_count": null,
   "id": "dc4c2c36-71d6-498d-8737-544d53b8497b",
   "metadata": {},
   "outputs": [],
   "source": [
    "dropped_columns=team2.iloc[:,10:13].columns\n",
    "dropped_columns"
   ]
  },
  {
   "cell_type": "code",
   "execution_count": null,
   "id": "54db2ddf-7735-43d3-b4f5-eea0bcd06c13",
   "metadata": {},
   "outputs": [],
   "source": [
    "team2.drop(columns=dropped_columns,inplace=True)\n",
    "team2.columns"
   ]
  },
  {
   "cell_type": "code",
   "execution_count": null,
   "id": "5504d4c5-55f8-489d-9210-6d7277c7af88",
   "metadata": {},
   "outputs": [],
   "source": [
    "team2 = team2[team1.columns]"
   ]
  },
  {
   "cell_type": "code",
   "execution_count": null,
   "id": "6b135215-dc6a-4c3e-82bd-0093d96c31b6",
   "metadata": {},
   "outputs": [],
   "source": [
    "team2.columns"
   ]
  },
  {
   "cell_type": "code",
   "execution_count": null,
   "id": "e89e59ee-f5bc-4cb4-8cde-bca055278123",
   "metadata": {},
   "outputs": [],
   "source": [
    "team2.head()"
   ]
  },
  {
   "cell_type": "code",
   "execution_count": null,
   "id": "57ba93f4-19a9-4b37-b75a-974db6a5a208",
   "metadata": {},
   "outputs": [],
   "source": [
    "team2.shape"
   ]
  },
  {
   "cell_type": "markdown",
   "id": "0e9cedf7-710b-463b-94d1-d66a4695421a",
   "metadata": {},
   "source": [
    "### Team 3"
   ]
  },
  {
   "cell_type": "code",
   "execution_count": null,
   "id": "349ed430-ab67-4e28-b508-f4474ac829ec",
   "metadata": {},
   "outputs": [],
   "source": [
    "team3.columns"
   ]
  },
  {
   "cell_type": "code",
   "execution_count": null,
   "id": "918f2a76-0235-4931-ae1d-174bc59a4c41",
   "metadata": {},
   "outputs": [],
   "source": [
    "team3.rename(columns = {'-':'Title','Duration (min)':'Duration','Budget (US)':'Budget','Box_office':'Revenue','IMDB (Out of 10)':'Imdb','Personal_Rating (out of 10)':'Personal'},inplace=True)\n",
    "team3.columns"
   ]
  },
  {
   "cell_type": "code",
   "execution_count": null,
   "id": "e430d1a9-b793-4bd2-b5b7-876357b42aef",
   "metadata": {},
   "outputs": [],
   "source": [
    "team3.columns = [col.replace('Person_','Fan_') for col in team3]\n",
    "team3.columns = [col.capitalize() for col in team3]\n",
    "team3.columns"
   ]
  },
  {
   "cell_type": "code",
   "execution_count": null,
   "id": "fc0b7c6f-e576-4e54-b501-a199d7ec5652",
   "metadata": {},
   "outputs": [],
   "source": [
    "team3.shape"
   ]
  },
  {
   "cell_type": "code",
   "execution_count": null,
   "id": "acf11581-1595-431c-9c73-eb6ec11e6437",
   "metadata": {},
   "outputs": [],
   "source": [
    "team3 = team3[team1.columns]\n",
    "team3.columns"
   ]
  },
  {
   "cell_type": "code",
   "execution_count": null,
   "id": "8434daec-71a3-4585-9d7b-b2e8bdf52edd",
   "metadata": {},
   "outputs": [],
   "source": [
    "team3.shape"
   ]
  },
  {
   "cell_type": "markdown",
   "id": "03c7f32f-f0b5-41ac-a8ca-3fe32656a424",
   "metadata": {},
   "source": [
    "### Team 4"
   ]
  },
  {
   "cell_type": "code",
   "execution_count": null,
   "id": "06967f5d-ac7f-456a-8f06-a9c986d9ad7f",
   "metadata": {},
   "outputs": [],
   "source": [
    "team4.columns"
   ]
  },
  {
   "cell_type": "code",
   "execution_count": null,
   "id": "54089fe1-4077-4b60-a7dd-f0e139b547b8",
   "metadata": {},
   "outputs": [],
   "source": [
    "team4.rename(columns = {'Name':'Title','Duration (min)':'Duration','Budget (dollars)':'Budget','Box Office revenue (dollars)':'Revenue','Genere':'Genre','Persol rating (1-100)':'Personal','Metacritic':'Critic_1','Letterboxd':'Critic_2','Rotten Tomatoes':'Critic_3','IMBD ':'Imdb'},inplace=True)\n",
    "team4.columns"
   ]
  },
  {
   "cell_type": "code",
   "execution_count": null,
   "id": "94eba723-0bea-4781-b52f-df5e978f8f6e",
   "metadata": {},
   "outputs": [],
   "source": [
    "team4[list(team4.columns[7:27])].columns"
   ]
  },
  {
   "cell_type": "code",
   "execution_count": null,
   "id": "bada48aa-6378-479b-84bf-932ea5734ef8",
   "metadata": {},
   "outputs": [],
   "source": [
    "cols=list(team4[list(team4.columns[7:27])].columns)\n",
    "team4.rename(columns={c: 'Fan_'+c for c in team4.columns if c in cols},inplace=True)\n",
    "team4.columns"
   ]
  },
  {
   "cell_type": "code",
   "execution_count": null,
   "id": "39fd1175-3023-4856-b01a-8b59a9cbb789",
   "metadata": {},
   "outputs": [],
   "source": [
    "team4.columns = [col.capitalize() for col in team4]\n",
    "team4.columns"
   ]
  },
  {
   "cell_type": "code",
   "execution_count": null,
   "id": "8eaf6cb8-031b-4f75-8b40-6a950338646d",
   "metadata": {},
   "outputs": [],
   "source": [
    "team4 = team4[team1.columns]\n",
    "team4.columns"
   ]
  },
  {
   "cell_type": "code",
   "execution_count": null,
   "id": "c03b87d7-ff04-4c35-8ec7-fdd1bdb37097",
   "metadata": {},
   "outputs": [],
   "source": [
    "team4.shape"
   ]
  },
  {
   "cell_type": "markdown",
   "id": "08959616-356c-4bcf-89d6-c0ac44218158",
   "metadata": {},
   "source": [
    "## Saving the dataframe to a file"
   ]
  },
  {
   "cell_type": "code",
   "execution_count": null,
   "id": "bad905af-5234-4151-b912-ade2d878e820",
   "metadata": {},
   "outputs": [],
   "source": [
    "#team1.to_csv('team1_temp.csv')\n",
    "#team2.to_csv('team2_temp.csv')\n",
    "#team3.to_csv('team3_temp.csv')\n",
    "#team4.to_csv('team4_temp.csv')"
   ]
  },
  {
   "cell_type": "markdown",
   "id": "7723f125-3334-40e1-89df-2ca73d33fab1",
   "metadata": {},
   "source": [
    "## Merging databases into one\n",
    "\n",
    "Since we are going to merge all four dataframes into one, it is easier if we clean the data for each dataframe before the merging. Refer to the notebook `2_movie_project_DB_cleaning.ipynb`"
   ]
  },
  {
   "cell_type": "code",
   "execution_count": null,
   "id": "09ff371d-5a79-4ecf-bbe8-f4cdb4f517a7",
   "metadata": {},
   "outputs": [],
   "source": []
  }
 ],
 "metadata": {
  "kernelspec": {
   "display_name": "Python 3 (ipykernel)",
   "language": "python",
   "name": "python3"
  },
  "language_info": {
   "codemirror_mode": {
    "name": "ipython",
    "version": 3
   },
   "file_extension": ".py",
   "mimetype": "text/x-python",
   "name": "python",
   "nbconvert_exporter": "python",
   "pygments_lexer": "ipython3",
   "version": "3.11.7"
  }
 },
 "nbformat": 4,
 "nbformat_minor": 5
}
