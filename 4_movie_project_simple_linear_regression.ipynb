{
 "cells": [
  {
   "cell_type": "markdown",
   "id": "ef0c9448-f8de-48b4-a6b7-b591364a206f",
   "metadata": {},
   "source": [
    "# Did you like the movie? - Simple Linear Regression\n",
    "\n",
    "In this stage we will perform a simple linear regression analysis in order to predict a movie's revenue based on the budget assigned to the movie production. We will use the `statsmodels` approach, both with and without considering an intercept.\n",
    "\n",
    "## Import libraries"
   ]
  },
  {
   "cell_type": "code",
   "execution_count": 1,
   "id": "c24015ac-59a0-48a5-a345-69fa2039421a",
   "metadata": {},
   "outputs": [],
   "source": [
    "# Data wrangling\n",
    "# ==============================================================================\n",
    "import pandas as pd\n",
    "import numpy as np\n",
    "\n",
    "# Plots\n",
    "# ==============================================================================\n",
    "import matplotlib.pyplot as plt\n",
    "from matplotlib import style\n",
    "import seaborn as sns\n",
    "\n",
    "# Preprocessing and modeling\n",
    "# ==============================================================================\n",
    "from scipy.stats import pearsonr\n",
    "from sklearn.linear_model import LinearRegression\n",
    "from sklearn.model_selection import train_test_split\n",
    "from sklearn.metrics import r2_score\n",
    "from sklearn.metrics import mean_squared_error\n",
    "import statsmodels.api as sm\n",
    "import statsmodels.formula.api as smf\n",
    "from scipy import stats\n",
    "\n",
    "# Configuring matplotlib\n",
    "# ==============================================================================\n",
    "plt.rcParams['image.cmap'] = \"bwr\"\n",
    "#plt.rcParams['figure.dpi'] = \"100\"\n",
    "plt.rcParams['savefig.bbox'] = \"tight\"\n",
    "style.use('ggplot') or plt.style.use('ggplot')\n",
    "\n",
    "# Configuring warnings\n",
    "# ==============================================================================\n",
    "import warnings\n",
    "#warnings.filterwarnings('ignore')"
   ]
  },
  {
   "cell_type": "markdown",
   "id": "8e70da0f-f983-4862-ae6c-b3a9591e84dd",
   "metadata": {},
   "source": [
    "## Loading the dataset\n",
    "\n",
    "We load our dataset, and from it we create a new dataframe with columns `Budget` and `Revenue`."
   ]
  },
  {
   "cell_type": "code",
   "execution_count": 2,
   "id": "4976f7fa-89d5-41ca-9819-3b7a0a0721b0",
   "metadata": {},
   "outputs": [
    {
     "data": {
      "text/html": [
       "<div>\n",
       "<style scoped>\n",
       "    .dataframe tbody tr th:only-of-type {\n",
       "        vertical-align: middle;\n",
       "    }\n",
       "\n",
       "    .dataframe tbody tr th {\n",
       "        vertical-align: top;\n",
       "    }\n",
       "\n",
       "    .dataframe thead th {\n",
       "        text-align: right;\n",
       "    }\n",
       "</style>\n",
       "<table border=\"1\" class=\"dataframe\">\n",
       "  <thead>\n",
       "    <tr style=\"text-align: right;\">\n",
       "      <th></th>\n",
       "      <th>Budget</th>\n",
       "      <th>Revenue</th>\n",
       "    </tr>\n",
       "    <tr>\n",
       "      <th>Title</th>\n",
       "      <th></th>\n",
       "      <th></th>\n",
       "    </tr>\n",
       "  </thead>\n",
       "  <tbody>\n",
       "    <tr>\n",
       "      <th>The shawshank redemption</th>\n",
       "      <td>28.341469</td>\n",
       "      <td>2.343110</td>\n",
       "    </tr>\n",
       "    <tr>\n",
       "      <th>The godfather</th>\n",
       "      <td>134.966411</td>\n",
       "      <td>1.620367</td>\n",
       "    </tr>\n",
       "    <tr>\n",
       "      <th>The godfather part ii</th>\n",
       "      <td>57.300000</td>\n",
       "      <td>1.129952</td>\n",
       "    </tr>\n",
       "    <tr>\n",
       "      <th>12 angry men</th>\n",
       "      <td>4.360000</td>\n",
       "      <td>0.689845</td>\n",
       "    </tr>\n",
       "    <tr>\n",
       "      <th>The lord of the rings the return of the king</th>\n",
       "      <td>377.845905</td>\n",
       "      <td>1.642758</td>\n",
       "    </tr>\n",
       "  </tbody>\n",
       "</table>\n",
       "</div>"
      ],
      "text/plain": [
       "                                                  Budget   Revenue\n",
       "Title                                                             \n",
       "The shawshank redemption                       28.341469  2.343110\n",
       "The godfather                                 134.966411  1.620367\n",
       "The godfather part ii                          57.300000  1.129952\n",
       "12 angry men                                    4.360000  0.689845\n",
       "The lord of the rings the return of the king  377.845905  1.642758"
      ]
     },
     "execution_count": 2,
     "metadata": {},
     "output_type": "execute_result"
    }
   ],
   "source": [
    "movies_budget = pd.read_csv('movie_DB2.csv', index_col='Title')\n",
    "movies_budget = movies_budget[['Budget','Revenue']]\n",
    "movies_budget.head()"
   ]
  },
  {
   "cell_type": "code",
   "execution_count": 3,
   "id": "4e5e2a65-0df4-48e2-9303-77ffb5fb4b77",
   "metadata": {},
   "outputs": [
    {
     "data": {
      "text/html": [
       "<div>\n",
       "<style scoped>\n",
       "    .dataframe tbody tr th:only-of-type {\n",
       "        vertical-align: middle;\n",
       "    }\n",
       "\n",
       "    .dataframe tbody tr th {\n",
       "        vertical-align: top;\n",
       "    }\n",
       "\n",
       "    .dataframe thead th {\n",
       "        text-align: right;\n",
       "    }\n",
       "</style>\n",
       "<table border=\"1\" class=\"dataframe\">\n",
       "  <thead>\n",
       "    <tr style=\"text-align: right;\">\n",
       "      <th></th>\n",
       "      <th>Budget</th>\n",
       "      <th>Revenue</th>\n",
       "    </tr>\n",
       "  </thead>\n",
       "  <tbody>\n",
       "    <tr>\n",
       "      <th>count</th>\n",
       "      <td>116.000000</td>\n",
       "      <td>116.000000</td>\n",
       "    </tr>\n",
       "    <tr>\n",
       "      <th>mean</th>\n",
       "      <td>100.485144</td>\n",
       "      <td>230.495803</td>\n",
       "    </tr>\n",
       "    <tr>\n",
       "      <th>std</th>\n",
       "      <td>97.919962</td>\n",
       "      <td>302.566495</td>\n",
       "    </tr>\n",
       "    <tr>\n",
       "      <th>min</th>\n",
       "      <td>0.960000</td>\n",
       "      <td>0.042004</td>\n",
       "    </tr>\n",
       "    <tr>\n",
       "      <th>25%</th>\n",
       "      <td>19.125929</td>\n",
       "      <td>1.261599</td>\n",
       "    </tr>\n",
       "    <tr>\n",
       "      <th>50%</th>\n",
       "      <td>71.000000</td>\n",
       "      <td>61.721652</td>\n",
       "    </tr>\n",
       "    <tr>\n",
       "      <th>75%</th>\n",
       "      <td>150.000000</td>\n",
       "      <td>407.220654</td>\n",
       "    </tr>\n",
       "    <tr>\n",
       "      <th>max</th>\n",
       "      <td>390.305102</td>\n",
       "      <td>1155.046416</td>\n",
       "    </tr>\n",
       "  </tbody>\n",
       "</table>\n",
       "</div>"
      ],
      "text/plain": [
       "           Budget      Revenue\n",
       "count  116.000000   116.000000\n",
       "mean   100.485144   230.495803\n",
       "std     97.919962   302.566495\n",
       "min      0.960000     0.042004\n",
       "25%     19.125929     1.261599\n",
       "50%     71.000000    61.721652\n",
       "75%    150.000000   407.220654\n",
       "max    390.305102  1155.046416"
      ]
     },
     "execution_count": 3,
     "metadata": {},
     "output_type": "execute_result"
    }
   ],
   "source": [
    "movies_budget.describe()"
   ]
  },
  {
   "cell_type": "markdown",
   "id": "3dc2ca53-8db8-4b54-9f6d-15ae4ab32c7d",
   "metadata": {},
   "source": [
    "## Graphical analysis\n",
    "\n",
    "First of all, we plot the data in order to see if there is a relation between the variables and calculate correlation coefficients."
   ]
  },
  {
   "cell_type": "code",
   "execution_count": 4,
   "id": "20f08745-aa4d-4b45-aa09-b1aeeaf48446",
   "metadata": {},
   "outputs": [
    {
     "data": {
      "image/png": "[encoded data removed]",
      "text/plain": [
       "<Figure size 600x384 with 1 Axes>"
      ]
     },
     "metadata": {},
     "output_type": "display_data"
    }
   ],
   "source": [
    "# Scatter plot\n",
    "# ==============================================================================\n",
    "fig, ax = plt.subplots(figsize=(6, 3.84))\n",
    "\n",
    "movies_budget.plot(\n",
    "    x    = 'Budget',\n",
    "    y    = 'Revenue',\n",
    "    c    = 'firebrick',\n",
    "    kind = \"scatter\",\n",
    "    ax   = ax\n",
    ")\n",
    "ax.set_title('Box office revenue vs Budget');"
   ]
  },
  {
   "cell_type": "code",
   "execution_count": 5,
   "id": "242745e4-2261-4f67-b34a-c59e64ed6ce0",
   "metadata": {},
   "outputs": [
    {
     "name": "stdout",
     "output_type": "stream",
     "text": [
      "Pearson correlation coefficient:  0.22621647261574213\n",
      "P-value:  0.014614982449984255\n"
     ]
    }
   ],
   "source": [
    "# Linear correlation\n",
    "# ==============================================================================\n",
    "corr_test = pearsonr(x = movies_budget['Budget'], y =  movies_budget['Revenue'])\n",
    "print(\"Pearson correlation coefficient: \", corr_test[0])\n",
    "print(\"P-value: \", corr_test[1])"
   ]
  },
  {
   "cell_type": "markdown",
   "id": "8f207040-2433-448c-be91-da364c86c18a",
   "metadata": {},
   "source": [
    "The graph and the correlation test show a very slight linear relation, with a low intensity (`r` = 0.49) and high significance level (`p-value` = 0.01461498). Even though the correlation coefficient is low, we will proceed to generate a linear regression model so we can predict `Revenue` as a function of `Budget`."
   ]
  },
  {
   "cell_type": "markdown",
   "id": "84c7f6b9-2d50-4926-b369-cd3e7e02b945",
   "metadata": {},
   "source": [
    "## Model fitting\n",
    "\n",
    "We will fit a linear regression model with `Revenue` as the response variable, and `Budget` as the predictor. To this end, we will split the data in two groups, a training set and a testing set. We will use the **Statsmodels** library. **Statsmodels** provides two ways of training the model:\n",
    "\n",
    "- Giving a formula for the model and feeding it with a `DataFrame` for the training test that includes the response variable and the predictors. This is similar to the method used in **R**.\n",
    "\n",
    "- Giving two matrices, a predictor matrix and a response matrix."
   ]
  },
  {
   "cell_type": "code",
   "execution_count": 6,
   "id": "1be0dcbf-f8ba-4243-b95d-666cd3d97b54",
   "metadata": {},
   "outputs": [],
   "source": [
    "# Train-test splitting\n",
    "# ==============================================================================\n",
    "X = movies_budget[['Budget']]\n",
    "y = movies_budget['Revenue']\n",
    "\n",
    "X_train, X_test, y_train, y_test = train_test_split(\n",
    "                                        X.values.reshape(-1,1),\n",
    "                                        y.values.reshape(-1,1),\n",
    "                                        train_size   = 0.8,\n",
    "                                        random_state = 512,\n",
    "                                        shuffle      = True\n",
    "                                    )"
   ]
  },
  {
   "cell_type": "markdown",
   "id": "6243f111-60a8-4970-b026-410b60adfeda",
   "metadata": {},
   "source": [
    "### Model fitting using a formula\n",
    "\n",
    "#### With intercept"
   ]
  },
  {
   "cell_type": "code",
   "execution_count": 7,
   "id": "9bcd36c2-7951-4f29-978d-05044356cdb5",
   "metadata": {},
   "outputs": [
    {
     "data": {
      "text/html": [
       "<table class=\"simpletable\">\n",
       "<caption>OLS Regression Results</caption>\n",
       "<tr>\n",
       "  <th>Dep. Variable:</th>         <td>Revenue</td>     <th>  R-squared:         </th> <td>   0.061</td>\n",
       "</tr>\n",
       "<tr>\n",
       "  <th>Model:</th>                   <td>OLS</td>       <th>  Adj. R-squared:    </th> <td>   0.050</td>\n",
       "</tr>\n",
       "<tr>\n",
       "  <th>Method:</th>             <td>Least Squares</td>  <th>  F-statistic:       </th> <td>   5.798</td>\n",
       "</tr>\n",
       "<tr>\n",
       "  <th>Date:</th>             <td>Fri, 07 Jun 2024</td> <th>  Prob (F-statistic):</th>  <td>0.0181</td> \n",
       "</tr>\n",
       "<tr>\n",
       "  <th>Time:</th>                 <td>20:45:23</td>     <th>  Log-Likelihood:    </th> <td> -657.67</td>\n",
       "</tr>\n",
       "<tr>\n",
       "  <th>No. Observations:</th>      <td>    92</td>      <th>  AIC:               </th> <td>   1319.</td>\n",
       "</tr>\n",
       "<tr>\n",
       "  <th>Df Residuals:</th>          <td>    90</td>      <th>  BIC:               </th> <td>   1324.</td>\n",
       "</tr>\n",
       "<tr>\n",
       "  <th>Df Model:</th>              <td>     1</td>      <th>                     </th>     <td> </td>   \n",
       "</tr>\n",
       "<tr>\n",
       "  <th>Covariance Type:</th>      <td>nonrobust</td>    <th>                     </th>     <td> </td>   \n",
       "</tr>\n",
       "</table>\n",
       "<table class=\"simpletable\">\n",
       "<tr>\n",
       "      <td></td>         <th>coef</th>     <th>std err</th>      <th>t</th>      <th>P>|t|</th>  <th>[0.025</th>    <th>0.975]</th>  \n",
       "</tr>\n",
       "<tr>\n",
       "  <th>Intercept</th> <td>  173.0252</td> <td>   46.866</td> <td>    3.692</td> <td> 0.000</td> <td>   79.918</td> <td>  266.133</td>\n",
       "</tr>\n",
       "<tr>\n",
       "  <th>Budget</th>    <td>    0.8074</td> <td>    0.335</td> <td>    2.408</td> <td> 0.018</td> <td>    0.141</td> <td>    1.473</td>\n",
       "</tr>\n",
       "</table>\n",
       "<table class=\"simpletable\">\n",
       "<tr>\n",
       "  <th>Omnibus:</th>       <td> 9.015</td> <th>  Durbin-Watson:     </th> <td>   1.994</td>\n",
       "</tr>\n",
       "<tr>\n",
       "  <th>Prob(Omnibus):</th> <td> 0.011</td> <th>  Jarque-Bera (JB):  </th> <td>   9.732</td>\n",
       "</tr>\n",
       "<tr>\n",
       "  <th>Skew:</th>          <td> 0.793</td> <th>  Prob(JB):          </th> <td> 0.00770</td>\n",
       "</tr>\n",
       "<tr>\n",
       "  <th>Kurtosis:</th>      <td> 2.845</td> <th>  Cond. No.          </th> <td>    202.</td>\n",
       "</tr>\n",
       "</table><br/><br/>Notes:<br/>[1] Standard Errors assume that the covariance matrix of the errors is correctly specified."
      ],
      "text/latex": [
       "\\begin{center}\n",
       "\\begin{tabular}{lclc}\n",
       "\\toprule\n",
       "\\textbf{Dep. Variable:}    &     Revenue      & \\textbf{  R-squared:         } &     0.061   \\\\\n",
       "\\textbf{Model:}            &       OLS        & \\textbf{  Adj. R-squared:    } &     0.050   \\\\\n",
       "\\textbf{Method:}           &  Least Squares   & \\textbf{  F-statistic:       } &     5.798   \\\\\n",
       "\\textbf{Date:}             & Fri, 07 Jun 2024 & \\textbf{  Prob (F-statistic):} &   0.0181    \\\\\n",
       "\\textbf{Time:}             &     20:45:23     & \\textbf{  Log-Likelihood:    } &   -657.67   \\\\\n",
       "\\textbf{No. Observations:} &          92      & \\textbf{  AIC:               } &     1319.   \\\\\n",
       "\\textbf{Df Residuals:}     &          90      & \\textbf{  BIC:               } &     1324.   \\\\\n",
       "\\textbf{Df Model:}         &           1      & \\textbf{                     } &             \\\\\n",
       "\\textbf{Covariance Type:}  &    nonrobust     & \\textbf{                     } &             \\\\\n",
       "\\bottomrule\n",
       "\\end{tabular}\n",
       "\\begin{tabular}{lcccccc}\n",
       "                   & \\textbf{coef} & \\textbf{std err} & \\textbf{t} & \\textbf{P$> |$t$|$} & \\textbf{[0.025} & \\textbf{0.975]}  \\\\\n",
       "\\midrule\n",
       "\\textbf{Intercept} &     173.0252  &       46.866     &     3.692  &         0.000        &       79.918    &      266.133     \\\\\n",
       "\\textbf{Budget}    &       0.8074  &        0.335     &     2.408  &         0.018        &        0.141    &        1.473     \\\\\n",
       "\\bottomrule\n",
       "\\end{tabular}\n",
       "\\begin{tabular}{lclc}\n",
       "\\textbf{Omnibus:}       &  9.015 & \\textbf{  Durbin-Watson:     } &    1.994  \\\\\n",
       "\\textbf{Prob(Omnibus):} &  0.011 & \\textbf{  Jarque-Bera (JB):  } &    9.732  \\\\\n",
       "\\textbf{Skew:}          &  0.793 & \\textbf{  Prob(JB):          } &  0.00770  \\\\\n",
       "\\textbf{Kurtosis:}      &  2.845 & \\textbf{  Cond. No.          } &     202.  \\\\\n",
       "\\bottomrule\n",
       "\\end{tabular}\n",
       "%\\caption{OLS Regression Results}\n",
       "\\end{center}\n",
       "\n",
       "Notes: \\newline\n",
       " [1] Standard Errors assume that the covariance matrix of the errors is correctly specified."
      ],
      "text/plain": [
       "<class 'statsmodels.iolib.summary.Summary'>\n",
       "\"\"\"\n",
       "                            OLS Regression Results                            \n",
       "==============================================================================\n",
       "Dep. Variable:                Revenue   R-squared:                       0.061\n",
       "Model:                            OLS   Adj. R-squared:                  0.050\n",
       "Method:                 Least Squares   F-statistic:                     5.798\n",
       "Date:                Fri, 07 Jun 2024   Prob (F-statistic):             0.0181\n",
       "Time:                        20:45:23   Log-Likelihood:                -657.67\n",
       "No. Observations:                  92   AIC:                             1319.\n",
       "Df Residuals:                      90   BIC:                             1324.\n",
       "Df Model:                           1                                         \n",
       "Covariance Type:            nonrobust                                         \n",
       "==============================================================================\n",
       "                 coef    std err          t      P>|t|      [0.025      0.975]\n",
       "------------------------------------------------------------------------------\n",
       "Intercept    173.0252     46.866      3.692      0.000      79.918     266.133\n",
       "Budget         0.8074      0.335      2.408      0.018       0.141       1.473\n",
       "==============================================================================\n",
       "Omnibus:                        9.015   Durbin-Watson:                   1.994\n",
       "Prob(Omnibus):                  0.011   Jarque-Bera (JB):                9.732\n",
       "Skew:                           0.793   Prob(JB):                      0.00770\n",
       "Kurtosis:                       2.845   Cond. No.                         202.\n",
       "==============================================================================\n",
       "\n",
       "Notes:\n",
       "[1] Standard Errors assume that the covariance matrix of the errors is correctly specified.\n",
       "\"\"\""
      ]
     },
     "execution_count": 7,
     "metadata": {},
     "output_type": "execute_result"
    }
   ],
   "source": [
    "# Model fitting using a formula\n",
    "# ==============================================================================\n",
    "movies_budget_train = pd.DataFrame(np.hstack((X_train, y_train)), columns=['Budget', 'Revenue'])\n",
    "modelf = smf.ols(formula = 'Revenue ~ Budget', data = movies_budget_train)\n",
    "modelf = modelf.fit()\n",
    "modelf.summary()"
   ]
  },
  {
   "cell_type": "markdown",
   "id": "41f1d384-1609-4756-afa3-88987465fbec",
   "metadata": {},
   "source": [
    "We observe that `R^2` is very small, so we suspect that the intercept must be zero"
   ]
  },
  {
   "cell_type": "markdown",
   "id": "89031485-e000-4ff8-9f33-751474c83907",
   "metadata": {},
   "source": [
    "#### Without intercept"
   ]
  },
  {
   "cell_type": "code",
   "execution_count": 8,
   "id": "07fef7de-648c-419e-a83b-7b92bce6c989",
   "metadata": {},
   "outputs": [
    {
     "data": {
      "text/html": [
       "<table class=\"simpletable\">\n",
       "<caption>OLS Regression Results</caption>\n",
       "<tr>\n",
       "  <th>Dep. Variable:</th>         <td>Revenue</td>     <th>  R-squared (uncentered):</th>      <td>   0.341</td>\n",
       "</tr>\n",
       "<tr>\n",
       "  <th>Model:</th>                   <td>OLS</td>       <th>  Adj. R-squared (uncentered):</th> <td>   0.334</td>\n",
       "</tr>\n",
       "<tr>\n",
       "  <th>Method:</th>             <td>Least Squares</td>  <th>  F-statistic:       </th>          <td>   47.11</td>\n",
       "</tr>\n",
       "<tr>\n",
       "  <th>Date:</th>             <td>Fri, 07 Jun 2024</td> <th>  Prob (F-statistic):</th>          <td>7.98e-10</td>\n",
       "</tr>\n",
       "<tr>\n",
       "  <th>Time:</th>                 <td>20:45:23</td>     <th>  Log-Likelihood:    </th>          <td> -664.15</td>\n",
       "</tr>\n",
       "<tr>\n",
       "  <th>No. Observations:</th>      <td>    92</td>      <th>  AIC:               </th>          <td>   1330.</td>\n",
       "</tr>\n",
       "<tr>\n",
       "  <th>Df Residuals:</th>          <td>    91</td>      <th>  BIC:               </th>          <td>   1333.</td>\n",
       "</tr>\n",
       "<tr>\n",
       "  <th>Df Model:</th>              <td>     1</td>      <th>                     </th>              <td> </td>   \n",
       "</tr>\n",
       "<tr>\n",
       "  <th>Covariance Type:</th>      <td>nonrobust</td>    <th>                     </th>              <td> </td>   \n",
       "</tr>\n",
       "</table>\n",
       "<table class=\"simpletable\">\n",
       "<tr>\n",
       "     <td></td>       <th>coef</th>     <th>std err</th>      <th>t</th>      <th>P>|t|</th>  <th>[0.025</th>    <th>0.975]</th>  \n",
       "</tr>\n",
       "<tr>\n",
       "  <th>Budget</th> <td>    1.7005</td> <td>    0.248</td> <td>    6.864</td> <td> 0.000</td> <td>    1.208</td> <td>    2.193</td>\n",
       "</tr>\n",
       "</table>\n",
       "<table class=\"simpletable\">\n",
       "<tr>\n",
       "  <th>Omnibus:</th>       <td> 0.467</td> <th>  Durbin-Watson:     </th> <td>   1.869</td>\n",
       "</tr>\n",
       "<tr>\n",
       "  <th>Prob(Omnibus):</th> <td> 0.792</td> <th>  Jarque-Bera (JB):  </th> <td>   0.175</td>\n",
       "</tr>\n",
       "<tr>\n",
       "  <th>Skew:</th>          <td> 0.089</td> <th>  Prob(JB):          </th> <td>   0.916</td>\n",
       "</tr>\n",
       "<tr>\n",
       "  <th>Kurtosis:</th>      <td> 3.119</td> <th>  Cond. No.          </th> <td>    1.00</td>\n",
       "</tr>\n",
       "</table><br/><br/>Notes:<br/>[1] R² is computed without centering (uncentered) since the model does not contain a constant.<br/>[2] Standard Errors assume that the covariance matrix of the errors is correctly specified."
      ],
      "text/latex": [
       "\\begin{center}\n",
       "\\begin{tabular}{lclc}\n",
       "\\toprule\n",
       "\\textbf{Dep. Variable:}    &     Revenue      & \\textbf{  R-squared (uncentered):}      &     0.341   \\\\\n",
       "\\textbf{Model:}            &       OLS        & \\textbf{  Adj. R-squared (uncentered):} &     0.334   \\\\\n",
       "\\textbf{Method:}           &  Least Squares   & \\textbf{  F-statistic:       }          &     47.11   \\\\\n",
       "\\textbf{Date:}             & Fri, 07 Jun 2024 & \\textbf{  Prob (F-statistic):}          &  7.98e-10   \\\\\n",
       "\\textbf{Time:}             &     20:45:23     & \\textbf{  Log-Likelihood:    }          &   -664.15   \\\\\n",
       "\\textbf{No. Observations:} &          92      & \\textbf{  AIC:               }          &     1330.   \\\\\n",
       "\\textbf{Df Residuals:}     &          91      & \\textbf{  BIC:               }          &     1333.   \\\\\n",
       "\\textbf{Df Model:}         &           1      & \\textbf{                     }          &             \\\\\n",
       "\\textbf{Covariance Type:}  &    nonrobust     & \\textbf{                     }          &             \\\\\n",
       "\\bottomrule\n",
       "\\end{tabular}\n",
       "\\begin{tabular}{lcccccc}\n",
       "                & \\textbf{coef} & \\textbf{std err} & \\textbf{t} & \\textbf{P$> |$t$|$} & \\textbf{[0.025} & \\textbf{0.975]}  \\\\\n",
       "\\midrule\n",
       "\\textbf{Budget} &       1.7005  &        0.248     &     6.864  &         0.000        &        1.208    &        2.193     \\\\\n",
       "\\bottomrule\n",
       "\\end{tabular}\n",
       "\\begin{tabular}{lclc}\n",
       "\\textbf{Omnibus:}       &  0.467 & \\textbf{  Durbin-Watson:     } &    1.869  \\\\\n",
       "\\textbf{Prob(Omnibus):} &  0.792 & \\textbf{  Jarque-Bera (JB):  } &    0.175  \\\\\n",
       "\\textbf{Skew:}          &  0.089 & \\textbf{  Prob(JB):          } &    0.916  \\\\\n",
       "\\textbf{Kurtosis:}      &  3.119 & \\textbf{  Cond. No.          } &     1.00  \\\\\n",
       "\\bottomrule\n",
       "\\end{tabular}\n",
       "%\\caption{OLS Regression Results}\n",
       "\\end{center}\n",
       "\n",
       "Notes: \\newline\n",
       " [1] R² is computed without centering (uncentered) since the model does not contain a constant. \\newline\n",
       " [2] Standard Errors assume that the covariance matrix of the errors is correctly specified."
      ],
      "text/plain": [
       "<class 'statsmodels.iolib.summary.Summary'>\n",
       "\"\"\"\n",
       "                                 OLS Regression Results                                \n",
       "=======================================================================================\n",
       "Dep. Variable:                Revenue   R-squared (uncentered):                   0.341\n",
       "Model:                            OLS   Adj. R-squared (uncentered):              0.334\n",
       "Method:                 Least Squares   F-statistic:                              47.11\n",
       "Date:                Fri, 07 Jun 2024   Prob (F-statistic):                    7.98e-10\n",
       "Time:                        20:45:23   Log-Likelihood:                         -664.15\n",
       "No. Observations:                  92   AIC:                                      1330.\n",
       "Df Residuals:                      91   BIC:                                      1333.\n",
       "Df Model:                           1                                                  \n",
       "Covariance Type:            nonrobust                                                  \n",
       "==============================================================================\n",
       "                 coef    std err          t      P>|t|      [0.025      0.975]\n",
       "------------------------------------------------------------------------------\n",
       "Budget         1.7005      0.248      6.864      0.000       1.208       2.193\n",
       "==============================================================================\n",
       "Omnibus:                        0.467   Durbin-Watson:                   1.869\n",
       "Prob(Omnibus):                  0.792   Jarque-Bera (JB):                0.175\n",
       "Skew:                           0.089   Prob(JB):                        0.916\n",
       "Kurtosis:                       3.119   Cond. No.                         1.00\n",
       "==============================================================================\n",
       "\n",
       "Notes:\n",
       "[1] R² is computed without centering (uncentered) since the model does not contain a constant.\n",
       "[2] Standard Errors assume that the covariance matrix of the errors is correctly specified.\n",
       "\"\"\""
      ]
     },
     "execution_count": 8,
     "metadata": {},
     "output_type": "execute_result"
    }
   ],
   "source": [
    "# Model fitting using a formula\n",
    "# ==============================================================================\n",
    "movies_budget_train = pd.DataFrame(np.hstack((X_train, y_train)), columns=['Budget', 'Revenue'])\n",
    "modelf_noint = smf.ols(formula = 'Revenue ~ Budget + 0', data = movies_budget_train)\n",
    "modelf_noint = modelf_noint.fit()\n",
    "modelf_noint.summary()"
   ]
  },
  {
   "cell_type": "markdown",
   "id": "ed0bb647-2393-4190-a64a-73a35e71ce69",
   "metadata": {},
   "source": [
    "In effect, eliminating the intercept increases `R^2`."
   ]
  },
  {
   "cell_type": "markdown",
   "id": "536e2db8-8362-4626-a13f-b0065a56bf29",
   "metadata": {},
   "source": [
    "### Model fitting using matrices\n",
    "\n",
    "#### With intercept"
   ]
  },
  {
   "cell_type": "code",
   "execution_count": 9,
   "id": "1b41fba2-4c23-46d4-819c-c207601ec20f",
   "metadata": {},
   "outputs": [
    {
     "data": {
      "text/html": [
       "<table class=\"simpletable\">\n",
       "<caption>OLS Regression Results</caption>\n",
       "<tr>\n",
       "  <th>Dep. Variable:</th>            <td>y</td>        <th>  R-squared:         </th> <td>   0.061</td>\n",
       "</tr>\n",
       "<tr>\n",
       "  <th>Model:</th>                   <td>OLS</td>       <th>  Adj. R-squared:    </th> <td>   0.050</td>\n",
       "</tr>\n",
       "<tr>\n",
       "  <th>Method:</th>             <td>Least Squares</td>  <th>  F-statistic:       </th> <td>   5.798</td>\n",
       "</tr>\n",
       "<tr>\n",
       "  <th>Date:</th>             <td>Fri, 07 Jun 2024</td> <th>  Prob (F-statistic):</th>  <td>0.0181</td> \n",
       "</tr>\n",
       "<tr>\n",
       "  <th>Time:</th>                 <td>20:45:23</td>     <th>  Log-Likelihood:    </th> <td> -657.67</td>\n",
       "</tr>\n",
       "<tr>\n",
       "  <th>No. Observations:</th>      <td>    92</td>      <th>  AIC:               </th> <td>   1319.</td>\n",
       "</tr>\n",
       "<tr>\n",
       "  <th>Df Residuals:</th>          <td>    90</td>      <th>  BIC:               </th> <td>   1324.</td>\n",
       "</tr>\n",
       "<tr>\n",
       "  <th>Df Model:</th>              <td>     1</td>      <th>                     </th>     <td> </td>   \n",
       "</tr>\n",
       "<tr>\n",
       "  <th>Covariance Type:</th>      <td>nonrobust</td>    <th>                     </th>     <td> </td>   \n",
       "</tr>\n",
       "</table>\n",
       "<table class=\"simpletable\">\n",
       "<tr>\n",
       "    <td></td>       <th>coef</th>     <th>std err</th>      <th>t</th>      <th>P>|t|</th>  <th>[0.025</th>    <th>0.975]</th>  \n",
       "</tr>\n",
       "<tr>\n",
       "  <th>const</th> <td>  173.0252</td> <td>   46.866</td> <td>    3.692</td> <td> 0.000</td> <td>   79.918</td> <td>  266.133</td>\n",
       "</tr>\n",
       "<tr>\n",
       "  <th>x1</th>    <td>    0.8074</td> <td>    0.335</td> <td>    2.408</td> <td> 0.018</td> <td>    0.141</td> <td>    1.473</td>\n",
       "</tr>\n",
       "</table>\n",
       "<table class=\"simpletable\">\n",
       "<tr>\n",
       "  <th>Omnibus:</th>       <td> 9.015</td> <th>  Durbin-Watson:     </th> <td>   1.994</td>\n",
       "</tr>\n",
       "<tr>\n",
       "  <th>Prob(Omnibus):</th> <td> 0.011</td> <th>  Jarque-Bera (JB):  </th> <td>   9.732</td>\n",
       "</tr>\n",
       "<tr>\n",
       "  <th>Skew:</th>          <td> 0.793</td> <th>  Prob(JB):          </th> <td> 0.00770</td>\n",
       "</tr>\n",
       "<tr>\n",
       "  <th>Kurtosis:</th>      <td> 2.845</td> <th>  Cond. No.          </th> <td>    202.</td>\n",
       "</tr>\n",
       "</table><br/><br/>Notes:<br/>[1] Standard Errors assume that the covariance matrix of the errors is correctly specified."
      ],
      "text/latex": [
       "\\begin{center}\n",
       "\\begin{tabular}{lclc}\n",
       "\\toprule\n",
       "\\textbf{Dep. Variable:}    &        y         & \\textbf{  R-squared:         } &     0.061   \\\\\n",
       "\\textbf{Model:}            &       OLS        & \\textbf{  Adj. R-squared:    } &     0.050   \\\\\n",
       "\\textbf{Method:}           &  Least Squares   & \\textbf{  F-statistic:       } &     5.798   \\\\\n",
       "\\textbf{Date:}             & Fri, 07 Jun 2024 & \\textbf{  Prob (F-statistic):} &   0.0181    \\\\\n",
       "\\textbf{Time:}             &     20:45:23     & \\textbf{  Log-Likelihood:    } &   -657.67   \\\\\n",
       "\\textbf{No. Observations:} &          92      & \\textbf{  AIC:               } &     1319.   \\\\\n",
       "\\textbf{Df Residuals:}     &          90      & \\textbf{  BIC:               } &     1324.   \\\\\n",
       "\\textbf{Df Model:}         &           1      & \\textbf{                     } &             \\\\\n",
       "\\textbf{Covariance Type:}  &    nonrobust     & \\textbf{                     } &             \\\\\n",
       "\\bottomrule\n",
       "\\end{tabular}\n",
       "\\begin{tabular}{lcccccc}\n",
       "               & \\textbf{coef} & \\textbf{std err} & \\textbf{t} & \\textbf{P$> |$t$|$} & \\textbf{[0.025} & \\textbf{0.975]}  \\\\\n",
       "\\midrule\n",
       "\\textbf{const} &     173.0252  &       46.866     &     3.692  &         0.000        &       79.918    &      266.133     \\\\\n",
       "\\textbf{x1}    &       0.8074  &        0.335     &     2.408  &         0.018        &        0.141    &        1.473     \\\\\n",
       "\\bottomrule\n",
       "\\end{tabular}\n",
       "\\begin{tabular}{lclc}\n",
       "\\textbf{Omnibus:}       &  9.015 & \\textbf{  Durbin-Watson:     } &    1.994  \\\\\n",
       "\\textbf{Prob(Omnibus):} &  0.011 & \\textbf{  Jarque-Bera (JB):  } &    9.732  \\\\\n",
       "\\textbf{Skew:}          &  0.793 & \\textbf{  Prob(JB):          } &  0.00770  \\\\\n",
       "\\textbf{Kurtosis:}      &  2.845 & \\textbf{  Cond. No.          } &     202.  \\\\\n",
       "\\bottomrule\n",
       "\\end{tabular}\n",
       "%\\caption{OLS Regression Results}\n",
       "\\end{center}\n",
       "\n",
       "Notes: \\newline\n",
       " [1] Standard Errors assume that the covariance matrix of the errors is correctly specified."
      ],
      "text/plain": [
       "<class 'statsmodels.iolib.summary.Summary'>\n",
       "\"\"\"\n",
       "                            OLS Regression Results                            \n",
       "==============================================================================\n",
       "Dep. Variable:                      y   R-squared:                       0.061\n",
       "Model:                            OLS   Adj. R-squared:                  0.050\n",
       "Method:                 Least Squares   F-statistic:                     5.798\n",
       "Date:                Fri, 07 Jun 2024   Prob (F-statistic):             0.0181\n",
       "Time:                        20:45:23   Log-Likelihood:                -657.67\n",
       "No. Observations:                  92   AIC:                             1319.\n",
       "Df Residuals:                      90   BIC:                             1324.\n",
       "Df Model:                           1                                         \n",
       "Covariance Type:            nonrobust                                         \n",
       "==============================================================================\n",
       "                 coef    std err          t      P>|t|      [0.025      0.975]\n",
       "------------------------------------------------------------------------------\n",
       "const        173.0252     46.866      3.692      0.000      79.918     266.133\n",
       "x1             0.8074      0.335      2.408      0.018       0.141       1.473\n",
       "==============================================================================\n",
       "Omnibus:                        9.015   Durbin-Watson:                   1.994\n",
       "Prob(Omnibus):                  0.011   Jarque-Bera (JB):                9.732\n",
       "Skew:                           0.793   Prob(JB):                      0.00770\n",
       "Kurtosis:                       2.845   Cond. No.                         202.\n",
       "==============================================================================\n",
       "\n",
       "Notes:\n",
       "[1] Standard Errors assume that the covariance matrix of the errors is correctly specified.\n",
       "\"\"\""
      ]
     },
     "execution_count": 9,
     "metadata": {},
     "output_type": "execute_result"
    }
   ],
   "source": [
    "# Model fitting using matrices\n",
    "# ==============================================================================\n",
    "# Add a column of 1s to the predictor matrix\n",
    "X_train_int = sm.add_constant(X_train, prepend=True)\n",
    "modelm = sm.OLS(endog=y_train, exog=X_train_int,)\n",
    "modelm = modelm.fit()\n",
    "modelm.summary()"
   ]
  },
  {
   "cell_type": "markdown",
   "id": "04bf76ef-c560-4f5e-863d-f93f9194b012",
   "metadata": {},
   "source": [
    "#### Without intercept"
   ]
  },
  {
   "cell_type": "code",
   "execution_count": 10,
   "id": "67f2ee4d-af88-4f5b-9a2c-8cdbfcbfda2f",
   "metadata": {},
   "outputs": [
    {
     "data": {
      "text/html": [
       "<table class=\"simpletable\">\n",
       "<caption>OLS Regression Results</caption>\n",
       "<tr>\n",
       "  <th>Dep. Variable:</th>            <td>y</td>        <th>  R-squared (uncentered):</th>      <td>   0.341</td>\n",
       "</tr>\n",
       "<tr>\n",
       "  <th>Model:</th>                   <td>OLS</td>       <th>  Adj. R-squared (uncentered):</th> <td>   0.334</td>\n",
       "</tr>\n",
       "<tr>\n",
       "  <th>Method:</th>             <td>Least Squares</td>  <th>  F-statistic:       </th>          <td>   47.11</td>\n",
       "</tr>\n",
       "<tr>\n",
       "  <th>Date:</th>             <td>Fri, 07 Jun 2024</td> <th>  Prob (F-statistic):</th>          <td>7.98e-10</td>\n",
       "</tr>\n",
       "<tr>\n",
       "  <th>Time:</th>                 <td>20:45:23</td>     <th>  Log-Likelihood:    </th>          <td> -664.15</td>\n",
       "</tr>\n",
       "<tr>\n",
       "  <th>No. Observations:</th>      <td>    92</td>      <th>  AIC:               </th>          <td>   1330.</td>\n",
       "</tr>\n",
       "<tr>\n",
       "  <th>Df Residuals:</th>          <td>    91</td>      <th>  BIC:               </th>          <td>   1333.</td>\n",
       "</tr>\n",
       "<tr>\n",
       "  <th>Df Model:</th>              <td>     1</td>      <th>                     </th>              <td> </td>   \n",
       "</tr>\n",
       "<tr>\n",
       "  <th>Covariance Type:</th>      <td>nonrobust</td>    <th>                     </th>              <td> </td>   \n",
       "</tr>\n",
       "</table>\n",
       "<table class=\"simpletable\">\n",
       "<tr>\n",
       "   <td></td>     <th>coef</th>     <th>std err</th>      <th>t</th>      <th>P>|t|</th>  <th>[0.025</th>    <th>0.975]</th>  \n",
       "</tr>\n",
       "<tr>\n",
       "  <th>x1</th> <td>    1.7005</td> <td>    0.248</td> <td>    6.864</td> <td> 0.000</td> <td>    1.208</td> <td>    2.193</td>\n",
       "</tr>\n",
       "</table>\n",
       "<table class=\"simpletable\">\n",
       "<tr>\n",
       "  <th>Omnibus:</th>       <td> 0.467</td> <th>  Durbin-Watson:     </th> <td>   1.869</td>\n",
       "</tr>\n",
       "<tr>\n",
       "  <th>Prob(Omnibus):</th> <td> 0.792</td> <th>  Jarque-Bera (JB):  </th> <td>   0.175</td>\n",
       "</tr>\n",
       "<tr>\n",
       "  <th>Skew:</th>          <td> 0.089</td> <th>  Prob(JB):          </th> <td>   0.916</td>\n",
       "</tr>\n",
       "<tr>\n",
       "  <th>Kurtosis:</th>      <td> 3.119</td> <th>  Cond. No.          </th> <td>    1.00</td>\n",
       "</tr>\n",
       "</table><br/><br/>Notes:<br/>[1] R² is computed without centering (uncentered) since the model does not contain a constant.<br/>[2] Standard Errors assume that the covariance matrix of the errors is correctly specified."
      ],
      "text/latex": [
       "\\begin{center}\n",
       "\\begin{tabular}{lclc}\n",
       "\\toprule\n",
       "\\textbf{Dep. Variable:}    &        y         & \\textbf{  R-squared (uncentered):}      &     0.341   \\\\\n",
       "\\textbf{Model:}            &       OLS        & \\textbf{  Adj. R-squared (uncentered):} &     0.334   \\\\\n",
       "\\textbf{Method:}           &  Least Squares   & \\textbf{  F-statistic:       }          &     47.11   \\\\\n",
       "\\textbf{Date:}             & Fri, 07 Jun 2024 & \\textbf{  Prob (F-statistic):}          &  7.98e-10   \\\\\n",
       "\\textbf{Time:}             &     20:45:23     & \\textbf{  Log-Likelihood:    }          &   -664.15   \\\\\n",
       "\\textbf{No. Observations:} &          92      & \\textbf{  AIC:               }          &     1330.   \\\\\n",
       "\\textbf{Df Residuals:}     &          91      & \\textbf{  BIC:               }          &     1333.   \\\\\n",
       "\\textbf{Df Model:}         &           1      & \\textbf{                     }          &             \\\\\n",
       "\\textbf{Covariance Type:}  &    nonrobust     & \\textbf{                     }          &             \\\\\n",
       "\\bottomrule\n",
       "\\end{tabular}\n",
       "\\begin{tabular}{lcccccc}\n",
       "            & \\textbf{coef} & \\textbf{std err} & \\textbf{t} & \\textbf{P$> |$t$|$} & \\textbf{[0.025} & \\textbf{0.975]}  \\\\\n",
       "\\midrule\n",
       "\\textbf{x1} &       1.7005  &        0.248     &     6.864  &         0.000        &        1.208    &        2.193     \\\\\n",
       "\\bottomrule\n",
       "\\end{tabular}\n",
       "\\begin{tabular}{lclc}\n",
       "\\textbf{Omnibus:}       &  0.467 & \\textbf{  Durbin-Watson:     } &    1.869  \\\\\n",
       "\\textbf{Prob(Omnibus):} &  0.792 & \\textbf{  Jarque-Bera (JB):  } &    0.175  \\\\\n",
       "\\textbf{Skew:}          &  0.089 & \\textbf{  Prob(JB):          } &    0.916  \\\\\n",
       "\\textbf{Kurtosis:}      &  3.119 & \\textbf{  Cond. No.          } &     1.00  \\\\\n",
       "\\bottomrule\n",
       "\\end{tabular}\n",
       "%\\caption{OLS Regression Results}\n",
       "\\end{center}\n",
       "\n",
       "Notes: \\newline\n",
       " [1] R² is computed without centering (uncentered) since the model does not contain a constant. \\newline\n",
       " [2] Standard Errors assume that the covariance matrix of the errors is correctly specified."
      ],
      "text/plain": [
       "<class 'statsmodels.iolib.summary.Summary'>\n",
       "\"\"\"\n",
       "                                 OLS Regression Results                                \n",
       "=======================================================================================\n",
       "Dep. Variable:                      y   R-squared (uncentered):                   0.341\n",
       "Model:                            OLS   Adj. R-squared (uncentered):              0.334\n",
       "Method:                 Least Squares   F-statistic:                              47.11\n",
       "Date:                Fri, 07 Jun 2024   Prob (F-statistic):                    7.98e-10\n",
       "Time:                        20:45:23   Log-Likelihood:                         -664.15\n",
       "No. Observations:                  92   AIC:                                      1330.\n",
       "Df Residuals:                      91   BIC:                                      1333.\n",
       "Df Model:                           1                                                  \n",
       "Covariance Type:            nonrobust                                                  \n",
       "==============================================================================\n",
       "                 coef    std err          t      P>|t|      [0.025      0.975]\n",
       "------------------------------------------------------------------------------\n",
       "x1             1.7005      0.248      6.864      0.000       1.208       2.193\n",
       "==============================================================================\n",
       "Omnibus:                        0.467   Durbin-Watson:                   1.869\n",
       "Prob(Omnibus):                  0.792   Jarque-Bera (JB):                0.175\n",
       "Skew:                           0.089   Prob(JB):                        0.916\n",
       "Kurtosis:                       3.119   Cond. No.                         1.00\n",
       "==============================================================================\n",
       "\n",
       "Notes:\n",
       "[1] R² is computed without centering (uncentered) since the model does not contain a constant.\n",
       "[2] Standard Errors assume that the covariance matrix of the errors is correctly specified.\n",
       "\"\"\""
      ]
     },
     "execution_count": 10,
     "metadata": {},
     "output_type": "execute_result"
    }
   ],
   "source": [
    "# Model fitting using matrices\n",
    "# ==============================================================================\n",
    "modelm_noint = sm.OLS(endog=y_train, exog=X_train,)\n",
    "modelm_noint = modelm_noint.fit()\n",
    "modelm_noint.summary()"
   ]
  },
  {
   "cell_type": "markdown",
   "id": "fb62e110-f392-45fd-9bfb-64440b4dd3d3",
   "metadata": {},
   "source": [
    "The rest of our analysis will be based on the model without intercept."
   ]
  },
  {
   "cell_type": "markdown",
   "id": "90bd0984-48d3-4d8d-9e92-ddcc8ef909d3",
   "metadata": {},
   "source": [
    "## Confidence intervals for the coefficients"
   ]
  },
  {
   "cell_type": "code",
   "execution_count": 11,
   "id": "0185f0d1-3feb-4829-b0d9-57700cc7c2eb",
   "metadata": {},
   "outputs": [
    {
     "data": {
      "text/plain": [
       "array([[1.20837307, 2.19261962]])"
      ]
     },
     "execution_count": 11,
     "metadata": {},
     "output_type": "execute_result"
    }
   ],
   "source": [
    "# Confidence intervals for the coefficients\n",
    "# ==============================================================================\n",
    "modelm_noint.conf_int(alpha=0.05)"
   ]
  },
  {
   "cell_type": "markdown",
   "id": "df181025-0c29-4437-b6ca-c9b893a82741",
   "metadata": {
    "tags": []
   },
   "source": [
    "## Residual analysis"
   ]
  },
  {
   "cell_type": "code",
   "execution_count": 12,
   "id": "a2507690-c5dd-4935-ab36-b9007cf393e8",
   "metadata": {},
   "outputs": [],
   "source": [
    "# Residual analysis\n",
    "# ==============================================================================\n",
    "y_train = y_train.flatten()\n",
    "prediction_train = modelm_noint.predict(exog = X_train)\n",
    "residues_train   = prediction_train - y_train"
   ]
  },
  {
   "cell_type": "code",
   "execution_count": 13,
   "id": "62260014-10f5-455c-9039-7a8370cb4d77",
   "metadata": {},
   "outputs": [
    {
     "data": {
      "text/plain": [
       "-7631.693757766727"
      ]
     },
     "execution_count": 13,
     "metadata": {},
     "output_type": "execute_result"
    }
   ],
   "source": [
    "residues_train.sum()"
   ]
  },
  {
   "cell_type": "code",
   "execution_count": 14,
   "id": "0ccbb9dc-28fd-4a41-9069-fe98859642dc",
   "metadata": {},
   "outputs": [
    {
     "data": {
      "text/plain": [
       "-82.95319301920355"
      ]
     },
     "execution_count": 14,
     "metadata": {},
     "output_type": "execute_result"
    }
   ],
   "source": [
    "residues_train.mean()"
   ]
  },
  {
   "cell_type": "code",
   "execution_count": 15,
   "id": "deb3e1e2-420a-438e-b629-fe540e1cced8",
   "metadata": {},
   "outputs": [
    {
     "data": {
      "text/plain": [
       "(-925.8687303461103, 663.6571078833477)"
      ]
     },
     "execution_count": 15,
     "metadata": {},
     "output_type": "execute_result"
    }
   ],
   "source": [
    "residues_train.min(),residues_train.max()"
   ]
  },
  {
   "cell_type": "markdown",
   "id": "2a1055e8-b949-4966-a4a5-d7a63e23f7e7",
   "metadata": {},
   "source": [
    "We observe that the sum of residues is not zero."
   ]
  },
  {
   "cell_type": "markdown",
   "id": "ea35e46d-4986-460b-9245-c462bc724b2e",
   "metadata": {},
   "source": [
    "### Graphs"
   ]
  },
  {
   "cell_type": "code",
   "execution_count": 16,
   "id": "7bf537e2-a6a3-4d1c-ac0e-6e5ec1795010",
   "metadata": {},
   "outputs": [
    {
     "name": "stderr",
     "output_type": "stream",
     "text": [
      "C:\\Users\\jorge\\AppData\\Local\\Temp\\ipykernel_33460\\3365456982.py:6: UserWarning: color is redundantly defined by the 'color' keyword argument and the fmt string \"k--\" (-> color='k'). The keyword argument will take precedence.\n",
      "  axes[0, 0].plot([y_train.min(), y_train.max()], [prediction_train.min(), prediction_train.max()],\n",
      "c:\\Users\\jorge\\anaconda3\\Lib\\site-packages\\seaborn\\_oldcore.py:1119: FutureWarning: use_inf_as_na option is deprecated and will be removed in a future version. Convert inf values to NaN before operating instead.\n",
      "  with pd.option_context('mode.use_inf_as_na', True):\n",
      "c:\\Users\\jorge\\anaconda3\\Lib\\site-packages\\statsmodels\\graphics\\gofplots.py:1045: UserWarning: color is redundantly defined by the 'color' keyword argument and the fmt string \"b\" (-> color=(0.0, 0.0, 1.0, 1)). The keyword argument will take precedence.\n",
      "  ax.plot(x, y, fmt, **plot_style)\n"
     ]
    },
    {
     "data": {
      "image/png": "[encoded data removed]",
      "text/plain": [
       "<Figure size 900x800 with 5 Axes>"
      ]
     },
     "metadata": {},
     "output_type": "display_data"
    }
   ],
   "source": [
    "# Graphs\n",
    "# ==============================================================================\n",
    "fig, axes = plt.subplots(nrows=3, ncols=2, figsize=(9, 8))\n",
    "\n",
    "axes[0, 0].scatter(y_train, prediction_train, edgecolors=(0, 0, 0), alpha = 0.4)\n",
    "axes[0, 0].plot([y_train.min(), y_train.max()], [prediction_train.min(), prediction_train.max()],\n",
    "                'k--', color = 'black', lw=2)\n",
    "axes[0, 0].set_title('Predicted value vs real value', fontsize = 10, fontweight = \"bold\")\n",
    "axes[0, 0].set_xlabel('Real')\n",
    "axes[0, 0].set_ylabel('Prediction')\n",
    "axes[0, 0].tick_params(labelsize = 7)\n",
    "\n",
    "axes[0, 1].scatter(list(range(len(y_train))), residues_train,\n",
    "                   edgecolors=(0, 0, 0), alpha = 0.4)\n",
    "axes[0, 1].axhline(y = 0, linestyle = '--', color = 'black', lw=2)\n",
    "axes[0, 1].set_title('Residues', fontsize = 10, fontweight = \"bold\")\n",
    "axes[0, 1].set_xlabel('id')\n",
    "axes[0, 1].set_ylabel('Residue')\n",
    "axes[0, 1].tick_params(labelsize = 7)\n",
    "\n",
    "sns.histplot(\n",
    "    data    = residues_train,\n",
    "    stat    = \"density\",\n",
    "    kde     = True,\n",
    "    line_kws= {'linewidth': 1},\n",
    "    color   = \"firebrick\",\n",
    "    alpha   = 0.3,\n",
    "    ax      = axes[1, 0]\n",
    ")\n",
    "\n",
    "axes[1, 0].set_title('Distribution of residues', fontsize = 10,\n",
    "                     fontweight = \"bold\")\n",
    "axes[1, 0].set_xlabel(\"Residue\")\n",
    "axes[1, 0].tick_params(labelsize = 7)\n",
    "\n",
    "\n",
    "sm.qqplot(\n",
    "    residues_train,\n",
    "    fit   = True,\n",
    "    line  = 'q',\n",
    "    ax    = axes[1, 1], \n",
    "    color = 'firebrick',\n",
    "    alpha = 0.4,\n",
    "    lw    = 2\n",
    ")\n",
    "axes[1, 1].set_title('Q-Q residues', fontsize = 10, fontweight = \"bold\")\n",
    "axes[1, 1].tick_params(labelsize = 7)\n",
    "\n",
    "axes[2, 0].scatter(prediction_train, residues_train,\n",
    "                   edgecolors=(0, 0, 0), alpha = 0.4)\n",
    "axes[2, 0].axhline(y = 0, linestyle = '--', color = 'black', lw=2)\n",
    "axes[2, 0].set_title('Residues vs prediction', fontsize = 10, fontweight = \"bold\")\n",
    "axes[2, 0].set_xlabel('Prediction')\n",
    "axes[2, 0].set_ylabel('Residue')\n",
    "axes[2, 0].tick_params(labelsize = 7)\n",
    "\n",
    "# Eliminate empty axes\n",
    "fig.delaxes(axes[2,1])\n",
    "\n",
    "fig.tight_layout()\n",
    "plt.subplots_adjust(top=0.9)\n",
    "fig.suptitle('Residual analysis', fontsize = 12, fontweight = \"bold\");"
   ]
  },
  {
   "cell_type": "markdown",
   "id": "ad4a2d99-7778-4cca-8a18-1c5ee3df4598",
   "metadata": {},
   "source": [
    "### Normality test\n",
    "\n",
    "We now verify if the residues follow a normal distribution using to statistical tests: *Shapiro-Wilk test* and *D'Agostino's K-squared test*. The latter includes a summary from **Statsmodels** with the name *Omnibus*.\n",
    "\n",
    "On both tests, the null hypothesis considers that the data follows a normal distribution. Hence, if the *$p$-value* is not smaller than the selected significance level *alpha* there is no evidence to reject the statement that the data is normally distributed."
   ]
  },
  {
   "cell_type": "code",
   "execution_count": 17,
   "id": "4e38513a-6328-4816-a6f0-f228ea09b825",
   "metadata": {},
   "outputs": [
    {
     "data": {
      "text/plain": [
       "ShapiroResult(statistic=0.9760574102401733, pvalue=0.0882439985871315)"
      ]
     },
     "execution_count": 17,
     "metadata": {},
     "output_type": "execute_result"
    }
   ],
   "source": [
    "# Shapiro-Wilk test\n",
    "# ==============================================================================\n",
    "shapiro_test = stats.shapiro(residues_train)\n",
    "shapiro_test"
   ]
  },
  {
   "cell_type": "code",
   "execution_count": 18,
   "id": "67944c1f-ead4-4849-9ba0-10cdc1555885",
   "metadata": {},
   "outputs": [
    {
     "name": "stdout",
     "output_type": "stream",
     "text": [
      "Statistic= 0.46683742345656964, p-value = 0.7918219589627746\n"
     ]
    }
   ],
   "source": [
    "# D'Agostino's K-squared test\n",
    "# ==============================================================================\n",
    "k2, p_value = stats.normaltest(residues_train)\n",
    "print(f\"Statistic= {k2}, p-value = {p_value}\")"
   ]
  },
  {
   "cell_type": "markdown",
   "id": "493ad426-826a-46ab-bef5-dbfbdf3e5e36",
   "metadata": {},
   "source": [
    "## Predictions\n",
    "\n",
    "Now that we have trained our model, we can obtain predictions for new data. Models from **statsmodels** allow us to calculate predictions in two ways:\n",
    "\n",
    "- `.predict()`: only gives predicted values.\n",
    "\n",
    "- `.get_prediction().summary_frame()`: gives confidence intervals in addition to predicted values."
   ]
  },
  {
   "cell_type": "code",
   "execution_count": 19,
   "id": "28cf16f1-3586-48b0-aed4-fd829b6a1aa9",
   "metadata": {},
   "outputs": [
    {
     "data": {
      "text/plain": [
       "array([ 12.86152894, 255.07445156, 122.43573675, 425.12408593,\n",
       "       153.04467093,  42.51240859,  10.20297806, 663.71239888,\n",
       "         3.06089342, 144.54218922, 246.57196984, 425.12408593,\n",
       "       161.54715265,  20.38963306, 561.59262799,   9.0492049 ,\n",
       "        39.11141591, 170.04963437, 255.07445156,  25.50744516,\n",
       "       195.55707953,  13.60397075,  11.90347441,   2.38069488,\n",
       "       255.07445156,  93.5272989 ,  27.2079415 , 425.12408593,\n",
       "         5.10148903,  10.3730277 , 570.43372785,  68.01985375,\n",
       "       425.12408593,  42.51240859, 497.52474985,  22.41642064,\n",
       "        30.60893419, 164.77608572,  39.69225104, 289.08437843,\n",
       "         3.74109196,  17.85521161, 297.58686015,   1.63247649,\n",
       "       255.07445156, 170.26328983, 238.06948812, 222.32786083,\n",
       "       238.06948812, 173.45062706, 319.72735145, 170.04963437,\n",
       "        68.01985375,  10.20297806,  33.16178392, 280.58189671,\n",
       "        76.52233547,  47.61389762,  97.43844049,  93.5272989 ,\n",
       "       297.58686015, 348.33536771, 358.14113023,  81.6238245 ,\n",
       "       493.95178937,   5.10148903, 232.6302363 , 548.81842804,\n",
       "         7.65223355, 425.12408593,  22.10645247, 170.04963437,\n",
       "        88.42580987, 291.60099399, 225.11904362, 107.13126965,\n",
       "        42.51240859,  48.19456441,  34.00992687, 110.53226234,\n",
       "       229.50988843,  42.51240859, 153.04467093, 255.07445156,\n",
       "        22.26289813,  42.51240859,   7.41416406, 153.04467093,\n",
       "       536.58269365,  11.42710416, 319.19239231, 314.59182359])"
      ]
     },
     "execution_count": 19,
     "metadata": {},
     "output_type": "execute_result"
    }
   ],
   "source": [
    "# Predictions with 95% confidence intervals\n",
    "# ==============================================================================\n",
    "#predictions = modelm_noint.get_prediction(exog = X_train).summary_frame(alpha=0.05)\n",
    "predictions = modelm_noint.fittedvalues\n",
    "predictions"
   ]
  },
  {
   "cell_type": "markdown",
   "id": "ca272d95-dd68-45ed-8c2d-98efdb7c9946",
   "metadata": {},
   "source": [
    "## Graphical representation\n",
    "\n",
    "Now, we plot the least-squares regression line, as well as upper and lower limits for confidence intervals. With this graph it is possible to identify a region for the *mean* value of the response variable."
   ]
  },
  {
   "cell_type": "code",
   "execution_count": 20,
   "id": "e0d5f765-41ce-47f8-b83e-50d077e0a476",
   "metadata": {},
   "outputs": [
    {
     "data": {
      "image/png": "[encoded data removed]",
      "text/plain": [
       "<Figure size 600x384 with 1 Axes>"
      ]
     },
     "metadata": {},
     "output_type": "display_data"
    }
   ],
   "source": [
    "# Predictions with 95% confidence intervals\n",
    "# ==============================================================================\n",
    "predictions = modelm_noint.get_prediction(exog = X_train).summary_frame(alpha=0.05)\n",
    "predictions['x'] = X_train[:, 0]\n",
    "predictions['y'] = y_train\n",
    "predictions = predictions.sort_values('x')\n",
    "\n",
    "# Graph\n",
    "# ==============================================================================\n",
    "fig, ax = plt.subplots(figsize=(6, 3.84))\n",
    "\n",
    "ax.scatter(predictions['x'], predictions['y'], marker='o', color = \"gray\")\n",
    "ax.plot(predictions['x'], predictions[\"mean\"], linestyle='-', label=\"OLS\")\n",
    "ax.plot(predictions['x'], predictions[\"mean_ci_lower\"], linestyle='--', color='red', label=\"95% CI\")\n",
    "ax.plot(predictions['x'], predictions[\"mean_ci_upper\"], linestyle='--', color='red')\n",
    "ax.fill_between(predictions['x'], predictions[\"mean_ci_lower\"], predictions[\"mean_ci_upper\"], alpha=0.3)\n",
    "ax.legend();"
   ]
  },
  {
   "cell_type": "markdown",
   "id": "0350686a-7b4b-480a-8eb4-b842b8bba686",
   "metadata": {},
   "source": [
    "## Model error test"
   ]
  },
  {
   "cell_type": "code",
   "execution_count": 21,
   "id": "211441e2-e3c0-4c31-be41-6dd162e5db90",
   "metadata": {},
   "outputs": [
    {
     "name": "stdout",
     "output_type": "stream",
     "text": [
      "\n",
      "The test error (rmse) is: 247.30529456363166\n"
     ]
    },
    {
     "name": "stderr",
     "output_type": "stream",
     "text": [
      "c:\\Users\\jorge\\anaconda3\\Lib\\site-packages\\sklearn\\metrics\\_regression.py:492: FutureWarning: 'squared' is deprecated in version 1.4 and will be removed in 1.6. To calculate the root mean squared error, use the function'root_mean_squared_error'.\n",
      "  warnings.warn(\n"
     ]
    }
   ],
   "source": [
    "# Model error test\n",
    "# ==============================================================================\n",
    "#X_test = sm.add_constant(X_test, prepend=False)\n",
    "predictions = modelm_noint.predict(exog = X_test)\n",
    "rmse = mean_squared_error(\n",
    "        y_true  = y_test,\n",
    "        y_pred  = predictions,\n",
    "        squared = False\n",
    "       )\n",
    "print(\"\")\n",
    "print(f\"The test error (rmse) is: {rmse}\")"
   ]
  },
  {
   "cell_type": "code",
   "execution_count": 22,
   "id": "a92d6a2f-a93b-43f0-a794-e0322091c324",
   "metadata": {},
   "outputs": [
    {
     "data": {
      "text/plain": [
       "(0.042004, 230.49580347413794, 1155.046416)"
      ]
     },
     "execution_count": 22,
     "metadata": {},
     "output_type": "execute_result"
    }
   ],
   "source": [
    "movies_budget['Revenue'].min(),movies_budget['Revenue'].mean(),movies_budget['Revenue'].max()"
   ]
  },
  {
   "cell_type": "markdown",
   "id": "c2a68d46-0d54-4a75-94a1-723aad538399",
   "metadata": {
    "jp-MarkdownHeadingCollapsed": true
   },
   "source": [
    "## Interpreting the results\n",
    "\n",
    "The `coef` column gives the estimated value for both of the parameters of the linear model ($\\hat{\\beta}_0$ and $\\hat{\\beta}_1$). These correspond to the intercept and the slope of the line. Standard errors, $t$-statistic value and $p$-value for each of the parameters is also shown. This allows us to determine if the predictors are significantly different than 0, that is, they are important for the model. We see that such *$p$-values* are smaller than $0.05$.\n",
    "\n",
    "`R-squared` indicates that the model is able to explain $34\\%$ of the observerd variability for the response variable. Furthermore, the *$p$-value* obtained in the F-test (`Prob (F-statistic) = 5.69e-30`) indicates that there is sufficient evidence that the variance explained by the model is greater than that of random chance.\n",
    "\n",
    "So, the linear model thus generated follows the equation:\n",
    "\n",
    "$$\\text{Revenue} = 2.9515\\times\\text{Budget}$$\n",
    " \n",
    "For each dollar invested in the movie, $2.95$ dollars are recovered **on average**\n",
    "\n",
    "The model error test is very big, $239.03$, so the model predictions get farther from the real value by $239.03$ **on average**."
   ]
  },
  {
   "cell_type": "markdown",
   "id": "1835f22e",
   "metadata": {},
   "source": [
    "Adding to the interpretation provided, the model is not good. It makes sense that the model is not good at all because we are only taking a one variables. The rmse is 247 which is huge which means that our predictions are not close to the real value. We did the multiple linear regresion before this activity so a better explanation is in the next activiy (that's the main reason we know this model is not good).\n"
   ]
  },
  {
   "cell_type": "markdown",
   "id": "5cd492de-c7de-4f93-85f4-216bc5330860",
   "metadata": {},
   "source": [
    "## References\n",
    "\n",
    "Regresión lineal con Python by Joaquín Amat Rodrigo, available under a Attribution 4.0 International (CC BY 4.0) at https://www.cienciadedatos.net/documentos/py10-regresion-lineal-python.html"
   ]
  },
  {
   "cell_type": "code",
   "execution_count": null,
   "id": "79522bb4-6533-4ae1-b208-9789ee8db419",
   "metadata": {},
   "outputs": [],
   "source": []
  }
 ],
 "metadata": {
  "kernelspec": {
   "display_name": "Python 3 (ipykernel)",
   "language": "python",
   "name": "python3"
  },
  "language_info": {
   "codemirror_mode": {
    "name": "ipython",
    "version": 3
   },
   "file_extension": ".py",
   "mimetype": "text/x-python",
   "name": "python",
   "nbconvert_exporter": "python",
   "pygments_lexer": "ipython3",
   "version": "3.11.7"
  }
 },
 "nbformat": 4,
 "nbformat_minor": 5
}
